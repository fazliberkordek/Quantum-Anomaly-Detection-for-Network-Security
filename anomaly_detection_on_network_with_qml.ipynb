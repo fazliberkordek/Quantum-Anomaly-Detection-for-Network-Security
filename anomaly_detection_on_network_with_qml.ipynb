{
 "cells": [
  {
   "cell_type": "markdown",
   "metadata": {},
   "source": [
    "### Quantum Anomaly Detection for Network Security"
   ]
  },
  {
   "cell_type": "markdown",
   "metadata": {},
   "source": [
    "We’ll build a binary classifier that detects whether network traffic is normal or anomalous (malicious) using:\n",
    "- ✅ Classical model: Support Vector Machine (SVM)\n",
    "- ⚛️ Quantum models:\n",
    "- QSVC (Quantum Kernel SVM)\n",
    "- VQC (Variational Quantum Classifier)\n",
    "\n",
    "All models will be trained on a real-world cybersecurity dataset: [CICIDS2017](https://www.unb.ca/cic/datasets/ids-2017.html)."
   ]
  },
  {
   "cell_type": "code",
   "execution_count": 8,
   "metadata": {},
   "outputs": [],
   "source": [
    "import pandas as pd\n",
    "\n",
    "# Load dataset\n",
    "df = pd.read_csv(\"CICIDS2017_sample.csv\")\n",
    "\n",
    "# Drop missing values\n",
    "df = df.dropna()\n",
    "\n",
    "# Label: convert to binary (0 = Normal, 1 = Attack)\n",
    "df[\"Label\"] = df[\"Label\"].apply(lambda x: 0 if x == \"BENIGN\" else 1)\n",
    "\n",
    "# Separate features and labels\n",
    "X = df.drop(\"Label\", axis=1).values\n",
    "y = df[\"Label\"].values"
   ]
  },
  {
   "cell_type": "code",
   "execution_count": 9,
   "metadata": {},
   "outputs": [
    {
     "data": {
      "text/plain": [
       "Flow Duration             100\n",
       "Total Fwd Packets         100\n",
       "Total Backward Packets    100\n",
       "Flow Bytes/s              100\n",
       "Flow Packets/s            100\n",
       "Label                     100\n",
       "dtype: int64"
      ]
     },
     "execution_count": 9,
     "metadata": {},
     "output_type": "execute_result"
    }
   ],
   "source": [
    "df.count()"
   ]
  },
  {
   "cell_type": "code",
   "execution_count": null,
   "metadata": {},
   "outputs": [],
   "source": []
  }
 ],
 "metadata": {
  "kernelspec": {
   "display_name": "Python 3",
   "language": "python",
   "name": "python3"
  },
  "language_info": {
   "codemirror_mode": {
    "name": "ipython",
    "version": 3
   },
   "file_extension": ".py",
   "mimetype": "text/x-python",
   "name": "python",
   "nbconvert_exporter": "python",
   "pygments_lexer": "ipython3",
   "version": "3.9.6"
  }
 },
 "nbformat": 4,
 "nbformat_minor": 2
}
